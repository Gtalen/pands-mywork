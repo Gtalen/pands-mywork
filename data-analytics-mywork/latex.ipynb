{
 "cells": [
  {
   "cell_type": "markdown",
   "metadata": {},
   "source": [
    "### learning the use of latex for mathemaical equation\n",
    "#use $ at the begining and at the end of an equation\n",
    "#'^' is used to exponentiate\n",
    "\n",
    "$E = mc^2$"
   ]
  }
 ],
 "metadata": {
  "language_info": {
   "name": "python"
  }
 },
 "nbformat": 4,
 "nbformat_minor": 2
}
