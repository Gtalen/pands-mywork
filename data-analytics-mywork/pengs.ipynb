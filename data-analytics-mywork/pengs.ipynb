{
 "cells": [
  {
   "cell_type": "code",
   "execution_count": 1,
   "metadata": {},
   "outputs": [],
   "source": [
    "#numpy can be used for numerical arrays and random number\n",
    "import numpy as np\n",
    "rng = np.random.default_rng()"
   ]
  },
  {
   "cell_type": "code",
   "execution_count": 2,
   "metadata": {},
   "outputs": [
    {
     "data": {
      "text/plain": [
       "0.9143589809837429"
      ]
     },
     "execution_count": 2,
     "metadata": {},
     "output_type": "execute_result"
    }
   ],
   "source": [
    "rng.random()  \n"
   ]
  },
  {
   "cell_type": "code",
   "execution_count": 5,
   "metadata": {},
   "outputs": [
    {
     "data": {
      "text/plain": [
       "array([ 1.02549446,  1.29767199, -0.59631364, -0.96919755, -1.71076189,\n",
       "       -0.06932538, -0.32509312, -0.92354585,  1.21798385,  0.01446221])"
      ]
     },
     "execution_count": 5,
     "metadata": {},
     "output_type": "execute_result"
    }
   ],
   "source": [
    "rng.standard_normal(10)  "
   ]
  },
  {
   "cell_type": "code",
   "execution_count": 8,
   "metadata": {},
   "outputs": [
    {
     "data": {
      "text/plain": [
       "array([44, 45, 77,  3, 18, 91, 69, 79, 70, 34, 84, 41, 19, 78, 97, 49, 53,\n",
       "       79, 49, 41, 83, 27, 62, 95,  5, 50, 82,  1, 25, 95, 96, 19, 80, 83,\n",
       "        4, 67, 39,  1, 87, 77, 52, 75, 83, 66, 10, 70, 61, 64, 48, 21],\n",
       "      dtype=int64)"
      ]
     },
     "execution_count": 8,
     "metadata": {},
     "output_type": "execute_result"
    }
   ],
   "source": [
    "rng.integers(low=0, high=100, size=50) "
   ]
  },
  {
   "cell_type": "code",
   "execution_count": null,
   "metadata": {},
   "outputs": [],
   "source": [
    "rng = np.random.default_rng()\n",
    "# Generate one random float uniformly distributed over the range [0, 1)\n",
    "rng.random()  \n",
    "0.06369197489564249  # may vary\n",
    "# Generate an array of 10 numbers according to a unit Gaussian distribution.\n",
    "rng.standard_normal(10)  \n",
    "array([-0.31018314, -1.8922078 , -0.3628523 , -0.63526532,  0.43181166,  # may vary\n",
    "        0.51640373,  1.25693945,  0.07779185,  0.84090247, -2.13406828])\n",
    "# Generate an array of 5 integers uniformly over the range [0, 10).\n",
    "rng.integers(low=0, high=10, size=5)  \n",
    "array([8, 7, 6, 2, 0])  # may vary"
   ]
  },
  {
   "cell_type": "markdown",
   "metadata": {},
   "source": []
  }
 ],
 "metadata": {
  "kernelspec": {
   "display_name": "Python 3",
   "language": "python",
   "name": "python3"
  },
  "language_info": {
   "codemirror_mode": {
    "name": "ipython",
    "version": 3
   },
   "file_extension": ".py",
   "mimetype": "text/x-python",
   "name": "python",
   "nbconvert_exporter": "python",
   "pygments_lexer": "ipython3",
   "version": "3.11.5"
  }
 },
 "nbformat": 4,
 "nbformat_minor": 2
}
