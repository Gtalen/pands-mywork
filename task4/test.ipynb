{
 "cells": [
  {
   "cell_type": "markdown",
   "metadata": {},
   "source": [
    "# H1\n",
    "## H2\n",
    "### H3"
   ]
  },
  {
   "cell_type": "markdown",
   "metadata": {},
   "source": [
    "# Ada\n",
    "\n",
    "Give it up for her. She's a Jesus' girl. who loves singing and dancing. Guess ? did you gues right?\n",
    "\n",
    "## Ada is a girl\n",
    "#Hyphen - is used for bulleting\n",
    "\n",
    "- I love Jesus\n",
    "- Jesus oves me\n",
    "### Ada Ada bu nwa\n",
    "#numbered bulleting exists\n",
    "\n",
    "1. apple\n",
    "2. orange\n",
    "5. pineapple\n",
    "8. cucumber"
   ]
  },
  {
   "cell_type": "markdown",
   "metadata": {},
   "source": [
    "## asterisks and underscore is used for italicizing\n",
    "see *what i mean*\n",
    "\n",
    "do you _get it_\n",
    "\n",
    "## make it bold\n",
    "i think __you do now__\n",
    "**sure**\n",
    "\n",
    "#### block quote > is used for highlighting a section\n",
    ">here you go"
   ]
  },
  {
   "cell_type": "markdown",
   "metadata": {},
   "source": [
    "# style guides\n",
    "\n",
    "- google style guide\n",
    "- style guide resource - grammer girl\n",
    "\n"
   ]
  },
  {
   "cell_type": "markdown",
   "metadata": {},
   "source": [
    "# draw a line with ***\n",
    "***\n",
    "\n",
    "here you go"
   ]
  }
 ],
 "metadata": {
  "kernelspec": {
   "display_name": "Python 3",
   "language": "python",
   "name": "python3"
  },
  "language_info": {
   "codemirror_mode": {
    "name": "ipython",
    "version": 3
   },
   "file_extension": ".py",
   "mimetype": "text/x-python",
   "name": "python",
   "nbconvert_exporter": "python",
   "pygments_lexer": "ipython3",
   "version": "3.11.5"
  }
 },
 "nbformat": 4,
 "nbformat_minor": 2
}
