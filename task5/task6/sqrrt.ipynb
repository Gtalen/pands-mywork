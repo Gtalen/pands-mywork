{
 "cells": [
  {
   "cell_type": "code",
   "execution_count": null,
   "metadata": {},
   "outputs": [],
   "source": [
    "def square_root(x):\n",
    "    f(x)= 0 # step 1 is finding where the squareroot of x == 0\n",
    "    $xn = xn-1 – f(xn-1)/f'(xn-1)$\n",
    "    "
   ]
  },
  {
   "cell_type": "markdown",
   "metadata": {},
   "source": [
    "  $xn = xn-1 – f(xn-1)/f'(xn-1)$"
   ]
  },
  {
   "cell_type": "markdown",
   "metadata": {},
   "source": [
    "$x_1 = x_0 − f(x_0)/f′(x_0)$"
   ]
  }
 ],
 "metadata": {
  "language_info": {
   "name": "python"
  }
 },
 "nbformat": 4,
 "nbformat_minor": 2
}
